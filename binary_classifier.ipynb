{
 "cells": [
  {
   "cell_type": "code",
   "execution_count": 1,
   "metadata": {},
   "outputs": [
    {
     "data": {
      "text/html": [
       "<div>\n",
       "<style scoped>\n",
       "    .dataframe tbody tr th:only-of-type {\n",
       "        vertical-align: middle;\n",
       "    }\n",
       "\n",
       "    .dataframe tbody tr th {\n",
       "        vertical-align: top;\n",
       "    }\n",
       "\n",
       "    .dataframe thead th {\n",
       "        text-align: right;\n",
       "    }\n",
       "</style>\n",
       "<table border=\"1\" class=\"dataframe\">\n",
       "  <thead>\n",
       "    <tr style=\"text-align: right;\">\n",
       "      <th></th>\n",
       "      <th>MENU_NAME</th>\n",
       "      <th>DATA</th>\n",
       "      <th>TARGET</th>\n",
       "      <th>Unnamed: 3</th>\n",
       "      <th>1: 맛표현</th>\n",
       "    </tr>\n",
       "  </thead>\n",
       "  <tbody>\n",
       "    <tr>\n",
       "      <th>0</th>\n",
       "      <td>뱅쇼</td>\n",
       "      <td>유럽에서는 겨울철만 되면  남여노소 뱅쇼를 즐긴다고 해요~ 와인에 과일을 넣고 푹끓...</td>\n",
       "      <td>1.0</td>\n",
       "      <td>NaN</td>\n",
       "      <td>0: 아닌거</td>\n",
       "    </tr>\n",
       "    <tr>\n",
       "      <th>1</th>\n",
       "      <td>순두부들깨탕</td>\n",
       "      <td>빨간 순두부만 먹다가... 껍질벗긴 들깨가루를 넣어 영양을 더해보니 보양식이 따로 ...</td>\n",
       "      <td>1.0</td>\n",
       "      <td>NaN</td>\n",
       "      <td>NaN</td>\n",
       "    </tr>\n",
       "    <tr>\n",
       "      <th>2</th>\n",
       "      <td>돼지고기두반장볶음</td>\n",
       "      <td>고기와 양념만 있으면 어디서든 쉽게 만들어 먹을 수 있어요. 캠핑의 꽃은 고기!</td>\n",
       "      <td>0.0</td>\n",
       "      <td>NaN</td>\n",
       "      <td>NaN</td>\n",
       "    </tr>\n",
       "    <tr>\n",
       "      <th>3</th>\n",
       "      <td>골뱅이무침</td>\n",
       "      <td>아들이 먹고 싶다는 골뱅이무침에 소면을 곁들여 한끼 식사로 충분</td>\n",
       "      <td>0.0</td>\n",
       "      <td>NaN</td>\n",
       "      <td>NaN</td>\n",
       "    </tr>\n",
       "    <tr>\n",
       "      <th>4</th>\n",
       "      <td>사과스프</td>\n",
       "      <td>사과는 식이섬유가 많고 다당류 비율이 높아서 다이어트에도 도움이 되며  특히 사과 ...</td>\n",
       "      <td>0.0</td>\n",
       "      <td>NaN</td>\n",
       "      <td>NaN</td>\n",
       "    </tr>\n",
       "  </tbody>\n",
       "</table>\n",
       "</div>"
      ],
      "text/plain": [
       "   MENU_NAME                                               DATA  TARGET  \\\n",
       "0         뱅쇼  유럽에서는 겨울철만 되면  남여노소 뱅쇼를 즐긴다고 해요~ 와인에 과일을 넣고 푹끓...     1.0   \n",
       "1     순두부들깨탕  빨간 순두부만 먹다가... 껍질벗긴 들깨가루를 넣어 영양을 더해보니 보양식이 따로 ...     1.0   \n",
       "2  돼지고기두반장볶음       고기와 양념만 있으면 어디서든 쉽게 만들어 먹을 수 있어요. 캠핑의 꽃은 고기!     0.0   \n",
       "3      골뱅이무침                아들이 먹고 싶다는 골뱅이무침에 소면을 곁들여 한끼 식사로 충분     0.0   \n",
       "4       사과스프  사과는 식이섬유가 많고 다당류 비율이 높아서 다이어트에도 도움이 되며  특히 사과 ...     0.0   \n",
       "\n",
       "   Unnamed: 3  1: 맛표현  \n",
       "0         NaN  0: 아닌거  \n",
       "1         NaN     NaN  \n",
       "2         NaN     NaN  \n",
       "3         NaN     NaN  \n",
       "4         NaN     NaN  "
      ]
     },
     "execution_count": 1,
     "metadata": {},
     "output_type": "execute_result"
    }
   ],
   "source": [
    "import pandas as pd\n",
    "df = pd.read_excel('./sampled.xlsx')\n",
    "df['DATA'] = df['DATA'].fillna('')\n",
    "df.head()"
   ]
  },
  {
   "cell_type": "code",
   "execution_count": 2,
   "metadata": {},
   "outputs": [
    {
     "data": {
      "text/plain": [
       "499"
      ]
     },
     "execution_count": 2,
     "metadata": {},
     "output_type": "execute_result"
    }
   ],
   "source": [
    "data = []\n",
    "for dt, label in zip(df['DATA'], df['TARGET']):\n",
    "    try: data.append((dt, int(label)))\n",
    "    except: pass\n",
    "len(data)"
   ]
  },
  {
   "cell_type": "code",
   "execution_count": 3,
   "metadata": {},
   "outputs": [
    {
     "name": "stdout",
     "output_type": "stream",
     "text": [
      "Accuracy: 0.63\n",
      "Precision: 1.0\n",
      "Recall: 0.11904761904761904\n"
     ]
    }
   ],
   "source": [
    "from sklearn.feature_extraction.text import TfidfVectorizer\n",
    "from sklearn.linear_model import LogisticRegression\n",
    "from sklearn.model_selection import train_test_split\n",
    "from sklearn.metrics import accuracy_score, precision_score, recall_score\n",
    "\n",
    "# 텍스트와 라벨 분리\n",
    "texts = [text for text, label in data]\n",
    "labels = [label for text, label in data]\n",
    "\n",
    "# 특징 추출\n",
    "vectorizer = TfidfVectorizer()\n",
    "X = vectorizer.fit_transform(texts)\n",
    "y = labels\n",
    "\n",
    "# 데이터 분할\n",
    "X_train, X_test, y_train, y_test = train_test_split(X, y, test_size=0.2, random_state=42)\n",
    "\n",
    "# 모델 학습\n",
    "model = LogisticRegression()\n",
    "model.fit(X_train, y_train)\n",
    "\n",
    "# 모델 평가\n",
    "y_pred = model.predict(X_test)\n",
    "print(\"Accuracy:\", accuracy_score(y_test, y_pred))\n",
    "print(\"Precision:\", precision_score(y_test, y_pred))\n",
    "print(\"Recall:\", recall_score(y_test, y_pred))\n"
   ]
  },
  {
   "cell_type": "code",
   "execution_count": null,
   "metadata": {},
   "outputs": [],
   "source": []
  }
 ],
 "metadata": {
  "kernelspec": {
   "display_name": "unet",
   "language": "python",
   "name": "python3"
  },
  "language_info": {
   "codemirror_mode": {
    "name": "ipython",
    "version": 3
   },
   "file_extension": ".py",
   "mimetype": "text/x-python",
   "name": "python",
   "nbconvert_exporter": "python",
   "pygments_lexer": "ipython3",
   "version": "3.8.19"
  }
 },
 "nbformat": 4,
 "nbformat_minor": 2
}
