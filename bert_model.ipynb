{
 "cells": [
  {
   "cell_type": "code",
   "execution_count": 13,
   "metadata": {},
   "outputs": [
    {
     "name": "stdout",
     "output_type": "stream",
     "text": [
      "499 499\n"
     ]
    }
   ],
   "source": [
    "import pandas as pd\n",
    "data = {'text':[], 'label':[]}\n",
    "df = pd.read_excel('./sampled.xlsx')\n",
    "df['DATA'] = df['DATA'].fillna('')\n",
    "for dt, label in zip(df['DATA'], df['TARGET']):\n",
    "    try: \n",
    "        data['label'].append(int(label))\n",
    "        data['text'].append(dt)\n",
    "    except: pass\n",
    "print(len(data['text']), len(data['label']))\n",
    "df = pd.DataFrame(data)"
   ]
  },
  {
   "cell_type": "code",
   "execution_count": 14,
   "metadata": {},
   "outputs": [
    {
     "data": {
      "text/html": [
       "<div>\n",
       "<style scoped>\n",
       "    .dataframe tbody tr th:only-of-type {\n",
       "        vertical-align: middle;\n",
       "    }\n",
       "\n",
       "    .dataframe tbody tr th {\n",
       "        vertical-align: top;\n",
       "    }\n",
       "\n",
       "    .dataframe thead th {\n",
       "        text-align: right;\n",
       "    }\n",
       "</style>\n",
       "<table border=\"1\" class=\"dataframe\">\n",
       "  <thead>\n",
       "    <tr style=\"text-align: right;\">\n",
       "      <th></th>\n",
       "      <th>text</th>\n",
       "      <th>label</th>\n",
       "    </tr>\n",
       "  </thead>\n",
       "  <tbody>\n",
       "    <tr>\n",
       "      <th>0</th>\n",
       "      <td>유럽에서는 겨울철만 되면  남여노소 뱅쇼를 즐긴다고 해요~ 와인에 과일을 넣고 푹끓...</td>\n",
       "      <td>1</td>\n",
       "    </tr>\n",
       "    <tr>\n",
       "      <th>1</th>\n",
       "      <td>빨간 순두부만 먹다가... 껍질벗긴 들깨가루를 넣어 영양을 더해보니 보양식이 따로 ...</td>\n",
       "      <td>1</td>\n",
       "    </tr>\n",
       "    <tr>\n",
       "      <th>2</th>\n",
       "      <td>고기와 양념만 있으면 어디서든 쉽게 만들어 먹을 수 있어요. 캠핑의 꽃은 고기!</td>\n",
       "      <td>0</td>\n",
       "    </tr>\n",
       "    <tr>\n",
       "      <th>3</th>\n",
       "      <td>아들이 먹고 싶다는 골뱅이무침에 소면을 곁들여 한끼 식사로 충분</td>\n",
       "      <td>0</td>\n",
       "    </tr>\n",
       "    <tr>\n",
       "      <th>4</th>\n",
       "      <td>사과는 식이섬유가 많고 다당류 비율이 높아서 다이어트에도 도움이 되며  특히 사과 ...</td>\n",
       "      <td>0</td>\n",
       "    </tr>\n",
       "    <tr>\n",
       "      <th>...</th>\n",
       "      <td>...</td>\n",
       "      <td>...</td>\n",
       "    </tr>\n",
       "    <tr>\n",
       "      <th>494</th>\n",
       "      <td>강판에 갈아서 만드는 감자전은 많이 알고 계실텐데요. 감자를 갈지 않고 채를 썰어서...</td>\n",
       "      <td>1</td>\n",
       "    </tr>\n",
       "    <tr>\n",
       "      <th>495</th>\n",
       "      <td>http://blog.naver.com/chez_sophie</td>\n",
       "      <td>0</td>\n",
       "    </tr>\n",
       "    <tr>\n",
       "      <th>496</th>\n",
       "      <td>파티에 튀김요리 없으면 허전하죠. 언제나 맛있는 튀김요리  모양도 이쁘고 완전 바삭...</td>\n",
       "      <td>0</td>\n",
       "    </tr>\n",
       "    <tr>\n",
       "      <th>497</th>\n",
       "      <td>남편이 좋아하는 시원한 재첩국을 미소 된장을 풀어 구수하고 담백하게 끓였는데 정말 ...</td>\n",
       "      <td>1</td>\n",
       "    </tr>\n",
       "    <tr>\n",
       "      <th>498</th>\n",
       "      <td>불을 쓰지않고 만드는 참치김밥은 단촛물에 버무린 초밥과 마요네즈 없이 깔끔하게 맛을...</td>\n",
       "      <td>1</td>\n",
       "    </tr>\n",
       "  </tbody>\n",
       "</table>\n",
       "<p>499 rows × 2 columns</p>\n",
       "</div>"
      ],
      "text/plain": [
       "                                                  text  label\n",
       "0    유럽에서는 겨울철만 되면  남여노소 뱅쇼를 즐긴다고 해요~ 와인에 과일을 넣고 푹끓...      1\n",
       "1    빨간 순두부만 먹다가... 껍질벗긴 들깨가루를 넣어 영양을 더해보니 보양식이 따로 ...      1\n",
       "2         고기와 양념만 있으면 어디서든 쉽게 만들어 먹을 수 있어요. 캠핑의 꽃은 고기!      0\n",
       "3                  아들이 먹고 싶다는 골뱅이무침에 소면을 곁들여 한끼 식사로 충분      0\n",
       "4    사과는 식이섬유가 많고 다당류 비율이 높아서 다이어트에도 도움이 되며  특히 사과 ...      0\n",
       "..                                                 ...    ...\n",
       "494  강판에 갈아서 만드는 감자전은 많이 알고 계실텐데요. 감자를 갈지 않고 채를 썰어서...      1\n",
       "495                  http://blog.naver.com/chez_sophie      0\n",
       "496  파티에 튀김요리 없으면 허전하죠. 언제나 맛있는 튀김요리  모양도 이쁘고 완전 바삭...      0\n",
       "497  남편이 좋아하는 시원한 재첩국을 미소 된장을 풀어 구수하고 담백하게 끓였는데 정말 ...      1\n",
       "498  불을 쓰지않고 만드는 참치김밥은 단촛물에 버무린 초밥과 마요네즈 없이 깔끔하게 맛을...      1\n",
       "\n",
       "[499 rows x 2 columns]"
      ]
     },
     "execution_count": 14,
     "metadata": {},
     "output_type": "execute_result"
    }
   ],
   "source": [
    "df"
   ]
  },
  {
   "cell_type": "code",
   "execution_count": 15,
   "metadata": {},
   "outputs": [
    {
     "name": "stderr",
     "output_type": "stream",
     "text": [
      "Some weights of BertForSequenceClassification were not initialized from the model checkpoint at bert-base-uncased and are newly initialized: ['classifier.bias', 'classifier.weight']\n",
      "You should probably TRAIN this model on a down-stream task to be able to use it for predictions and inference.\n",
      "c:\\Users\\user\\miniconda3\\envs\\unet\\lib\\site-packages\\transformers\\training_args.py:1494: FutureWarning: `evaluation_strategy` is deprecated and will be removed in version 4.46 of 🤗 Transformers. Use `eval_strategy` instead\n",
      "  warnings.warn(\n"
     ]
    },
    {
     "data": {
      "application/vnd.jupyter.widget-view+json": {
       "model_id": "0ceb8143a3d149c7a30e6668743c0804",
       "version_major": 2,
       "version_minor": 0
      },
      "text/plain": [
       "  0%|          | 0/500 [00:00<?, ?it/s]"
      ]
     },
     "metadata": {},
     "output_type": "display_data"
    },
    {
     "name": "stdout",
     "output_type": "stream",
     "text": [
      "{'loss': 0.6793, 'grad_norm': 2.848879098892212, 'learning_rate': 1.0000000000000002e-06, 'epoch': 0.4}\n",
      "{'loss': 0.6818, 'grad_norm': 5.326639652252197, 'learning_rate': 2.0000000000000003e-06, 'epoch': 0.8}\n"
     ]
    },
    {
     "data": {
      "application/vnd.jupyter.widget-view+json": {
       "model_id": "0d7091610da041aa83b0291b61362b32",
       "version_major": 2,
       "version_minor": 0
      },
      "text/plain": [
       "  0%|          | 0/7 [00:00<?, ?it/s]"
      ]
     },
     "metadata": {},
     "output_type": "display_data"
    },
    {
     "name": "stdout",
     "output_type": "stream",
     "text": [
      "{'eval_loss': 0.6732000112533569, 'eval_runtime': 1.2537, 'eval_samples_per_second': 79.765, 'eval_steps_per_second': 5.584, 'epoch': 1.0}\n",
      "{'loss': 0.6833, 'grad_norm': 4.2678399085998535, 'learning_rate': 3e-06, 'epoch': 1.2}\n",
      "{'loss': 0.6769, 'grad_norm': 4.341336250305176, 'learning_rate': 4.000000000000001e-06, 'epoch': 1.6}\n",
      "{'loss': 0.6717, 'grad_norm': 3.914797306060791, 'learning_rate': 5e-06, 'epoch': 2.0}\n"
     ]
    },
    {
     "data": {
      "application/vnd.jupyter.widget-view+json": {
       "model_id": "5e2df7163a43428ebf877a53381c615f",
       "version_major": 2,
       "version_minor": 0
      },
      "text/plain": [
       "  0%|          | 0/7 [00:00<?, ?it/s]"
      ]
     },
     "metadata": {},
     "output_type": "display_data"
    },
    {
     "name": "stdout",
     "output_type": "stream",
     "text": [
      "{'eval_loss': 0.6661660671234131, 'eval_runtime': 1.2307, 'eval_samples_per_second': 81.252, 'eval_steps_per_second': 5.688, 'epoch': 2.0}\n",
      "{'loss': 0.6545, 'grad_norm': 5.433873176574707, 'learning_rate': 6e-06, 'epoch': 2.4}\n",
      "{'loss': 0.6794, 'grad_norm': 8.131063461303711, 'learning_rate': 7.000000000000001e-06, 'epoch': 2.8}\n"
     ]
    },
    {
     "data": {
      "application/vnd.jupyter.widget-view+json": {
       "model_id": "0abf9085f8984e369cc4e447c96d7151",
       "version_major": 2,
       "version_minor": 0
      },
      "text/plain": [
       "  0%|          | 0/7 [00:00<?, ?it/s]"
      ]
     },
     "metadata": {},
     "output_type": "display_data"
    },
    {
     "name": "stdout",
     "output_type": "stream",
     "text": [
      "{'eval_loss': 0.6596788763999939, 'eval_runtime': 1.2577, 'eval_samples_per_second': 79.512, 'eval_steps_per_second': 5.566, 'epoch': 3.0}\n",
      "{'loss': 0.651, 'grad_norm': 11.736991882324219, 'learning_rate': 8.000000000000001e-06, 'epoch': 3.2}\n",
      "{'loss': 0.632, 'grad_norm': 4.745382785797119, 'learning_rate': 9e-06, 'epoch': 3.6}\n",
      "{'loss': 0.6334, 'grad_norm': 6.416578769683838, 'learning_rate': 1e-05, 'epoch': 4.0}\n"
     ]
    },
    {
     "data": {
      "application/vnd.jupyter.widget-view+json": {
       "model_id": "f78290b4810a45cea8038b08e4d32e47",
       "version_major": 2,
       "version_minor": 0
      },
      "text/plain": [
       "  0%|          | 0/7 [00:00<?, ?it/s]"
      ]
     },
     "metadata": {},
     "output_type": "display_data"
    },
    {
     "name": "stdout",
     "output_type": "stream",
     "text": [
      "{'eval_loss': 0.6729009747505188, 'eval_runtime': 1.2446, 'eval_samples_per_second': 80.345, 'eval_steps_per_second': 5.624, 'epoch': 4.0}\n",
      "{'loss': 0.6122, 'grad_norm': 5.0874342918396, 'learning_rate': 1.1000000000000001e-05, 'epoch': 4.4}\n",
      "{'loss': 0.6569, 'grad_norm': 4.722446918487549, 'learning_rate': 1.2e-05, 'epoch': 4.8}\n"
     ]
    },
    {
     "data": {
      "application/vnd.jupyter.widget-view+json": {
       "model_id": "40595ca8acf840b783657970410f47d6",
       "version_major": 2,
       "version_minor": 0
      },
      "text/plain": [
       "  0%|          | 0/7 [00:00<?, ?it/s]"
      ]
     },
     "metadata": {},
     "output_type": "display_data"
    },
    {
     "name": "stdout",
     "output_type": "stream",
     "text": [
      "{'eval_loss': 0.6613001823425293, 'eval_runtime': 1.2546, 'eval_samples_per_second': 79.706, 'eval_steps_per_second': 5.579, 'epoch': 5.0}\n",
      "{'loss': 0.6248, 'grad_norm': 8.271346092224121, 'learning_rate': 1.3000000000000001e-05, 'epoch': 5.2}\n",
      "{'loss': 0.6111, 'grad_norm': 4.076862812042236, 'learning_rate': 1.4000000000000001e-05, 'epoch': 5.6}\n",
      "{'loss': 0.6228, 'grad_norm': 7.455092430114746, 'learning_rate': 1.5e-05, 'epoch': 6.0}\n"
     ]
    },
    {
     "data": {
      "application/vnd.jupyter.widget-view+json": {
       "model_id": "3a5d309f44e14a108c13a9f9fca94554",
       "version_major": 2,
       "version_minor": 0
      },
      "text/plain": [
       "  0%|          | 0/7 [00:00<?, ?it/s]"
      ]
     },
     "metadata": {},
     "output_type": "display_data"
    },
    {
     "name": "stdout",
     "output_type": "stream",
     "text": [
      "{'eval_loss': 0.6863974928855896, 'eval_runtime': 1.2477, 'eval_samples_per_second': 80.148, 'eval_steps_per_second': 5.61, 'epoch': 6.0}\n",
      "{'loss': 0.6388, 'grad_norm': 3.9731605052948, 'learning_rate': 1.6000000000000003e-05, 'epoch': 6.4}\n",
      "{'loss': 0.6051, 'grad_norm': 7.9456892013549805, 'learning_rate': 1.7000000000000003e-05, 'epoch': 6.8}\n"
     ]
    },
    {
     "data": {
      "application/vnd.jupyter.widget-view+json": {
       "model_id": "71998c12610c4277a50daddae4996991",
       "version_major": 2,
       "version_minor": 0
      },
      "text/plain": [
       "  0%|          | 0/7 [00:00<?, ?it/s]"
      ]
     },
     "metadata": {},
     "output_type": "display_data"
    },
    {
     "name": "stdout",
     "output_type": "stream",
     "text": [
      "{'eval_loss': 0.6742534637451172, 'eval_runtime': 1.2576, 'eval_samples_per_second': 79.514, 'eval_steps_per_second': 5.566, 'epoch': 7.0}\n",
      "{'loss': 0.5607, 'grad_norm': 15.634194374084473, 'learning_rate': 1.8e-05, 'epoch': 7.2}\n",
      "{'loss': 0.5482, 'grad_norm': 10.711559295654297, 'learning_rate': 1.9e-05, 'epoch': 7.6}\n",
      "{'loss': 0.623, 'grad_norm': 9.09218978881836, 'learning_rate': 2e-05, 'epoch': 8.0}\n"
     ]
    },
    {
     "data": {
      "application/vnd.jupyter.widget-view+json": {
       "model_id": "7ec40db3e42d4e5da0a9c2c309df986c",
       "version_major": 2,
       "version_minor": 0
      },
      "text/plain": [
       "  0%|          | 0/7 [00:00<?, ?it/s]"
      ]
     },
     "metadata": {},
     "output_type": "display_data"
    },
    {
     "name": "stdout",
     "output_type": "stream",
     "text": [
      "{'eval_loss': 0.5996202230453491, 'eval_runtime': 1.2486, 'eval_samples_per_second': 80.089, 'eval_steps_per_second': 5.606, 'epoch': 8.0}\n",
      "{'loss': 0.4676, 'grad_norm': 7.234545707702637, 'learning_rate': 2.1e-05, 'epoch': 8.4}\n",
      "{'loss': 0.4956, 'grad_norm': 6.089584827423096, 'learning_rate': 2.2000000000000003e-05, 'epoch': 8.8}\n"
     ]
    },
    {
     "data": {
      "application/vnd.jupyter.widget-view+json": {
       "model_id": "1889a0417986468584d981bd76c551af",
       "version_major": 2,
       "version_minor": 0
      },
      "text/plain": [
       "  0%|          | 0/7 [00:00<?, ?it/s]"
      ]
     },
     "metadata": {},
     "output_type": "display_data"
    },
    {
     "name": "stdout",
     "output_type": "stream",
     "text": [
      "{'eval_loss': 0.7327388525009155, 'eval_runtime': 1.2567, 'eval_samples_per_second': 79.575, 'eval_steps_per_second': 5.57, 'epoch': 9.0}\n",
      "{'loss': 0.4859, 'grad_norm': 24.93880271911621, 'learning_rate': 2.3000000000000003e-05, 'epoch': 9.2}\n",
      "{'loss': 0.4505, 'grad_norm': 12.645374298095703, 'learning_rate': 2.4e-05, 'epoch': 9.6}\n",
      "{'loss': 0.4032, 'grad_norm': 13.654458999633789, 'learning_rate': 2.5e-05, 'epoch': 10.0}\n"
     ]
    },
    {
     "data": {
      "application/vnd.jupyter.widget-view+json": {
       "model_id": "d9ee829adc144a329b60329c12ae012e",
       "version_major": 2,
       "version_minor": 0
      },
      "text/plain": [
       "  0%|          | 0/7 [00:00<?, ?it/s]"
      ]
     },
     "metadata": {},
     "output_type": "display_data"
    },
    {
     "name": "stdout",
     "output_type": "stream",
     "text": [
      "{'eval_loss': 0.6242421865463257, 'eval_runtime': 1.2407, 'eval_samples_per_second': 80.601, 'eval_steps_per_second': 5.642, 'epoch': 10.0}\n",
      "{'loss': 0.3845, 'grad_norm': 9.346363067626953, 'learning_rate': 2.6000000000000002e-05, 'epoch': 10.4}\n",
      "{'loss': 0.394, 'grad_norm': 18.67387580871582, 'learning_rate': 2.7000000000000002e-05, 'epoch': 10.8}\n"
     ]
    },
    {
     "data": {
      "application/vnd.jupyter.widget-view+json": {
       "model_id": "80047841ae684d70b284e94c18f7a5c7",
       "version_major": 2,
       "version_minor": 0
      },
      "text/plain": [
       "  0%|          | 0/7 [00:00<?, ?it/s]"
      ]
     },
     "metadata": {},
     "output_type": "display_data"
    },
    {
     "name": "stdout",
     "output_type": "stream",
     "text": [
      "{'eval_loss': 0.6826854944229126, 'eval_runtime': 1.2706, 'eval_samples_per_second': 78.703, 'eval_steps_per_second': 5.509, 'epoch': 11.0}\n",
      "{'loss': 0.437, 'grad_norm': 11.383567810058594, 'learning_rate': 2.8000000000000003e-05, 'epoch': 11.2}\n",
      "{'loss': 0.3055, 'grad_norm': 8.383326530456543, 'learning_rate': 2.9e-05, 'epoch': 11.6}\n",
      "{'loss': 0.3463, 'grad_norm': 5.734701156616211, 'learning_rate': 3e-05, 'epoch': 12.0}\n"
     ]
    },
    {
     "data": {
      "application/vnd.jupyter.widget-view+json": {
       "model_id": "f9c1c6f917cd406e85ff5fe50f81b57a",
       "version_major": 2,
       "version_minor": 0
      },
      "text/plain": [
       "  0%|          | 0/7 [00:00<?, ?it/s]"
      ]
     },
     "metadata": {},
     "output_type": "display_data"
    },
    {
     "name": "stdout",
     "output_type": "stream",
     "text": [
      "{'eval_loss': 0.8408334851264954, 'eval_runtime': 1.2412, 'eval_samples_per_second': 80.565, 'eval_steps_per_second': 5.64, 'epoch': 12.0}\n",
      "{'loss': 0.3176, 'grad_norm': 9.388032913208008, 'learning_rate': 3.1e-05, 'epoch': 12.4}\n",
      "{'loss': 0.2745, 'grad_norm': 14.53752613067627, 'learning_rate': 3.2000000000000005e-05, 'epoch': 12.8}\n"
     ]
    },
    {
     "data": {
      "application/vnd.jupyter.widget-view+json": {
       "model_id": "17d02ea247c44df988fb09b4d35b9cf1",
       "version_major": 2,
       "version_minor": 0
      },
      "text/plain": [
       "  0%|          | 0/7 [00:00<?, ?it/s]"
      ]
     },
     "metadata": {},
     "output_type": "display_data"
    },
    {
     "name": "stdout",
     "output_type": "stream",
     "text": [
      "{'eval_loss': 0.9721183776855469, 'eval_runtime': 1.2537, 'eval_samples_per_second': 79.767, 'eval_steps_per_second': 5.584, 'epoch': 13.0}\n",
      "{'loss': 0.3716, 'grad_norm': 30.790586471557617, 'learning_rate': 3.3e-05, 'epoch': 13.2}\n",
      "{'loss': 0.2942, 'grad_norm': 18.116220474243164, 'learning_rate': 3.4000000000000007e-05, 'epoch': 13.6}\n",
      "{'loss': 0.4262, 'grad_norm': 5.96107816696167, 'learning_rate': 3.5e-05, 'epoch': 14.0}\n"
     ]
    },
    {
     "data": {
      "application/vnd.jupyter.widget-view+json": {
       "model_id": "4af1c4569016429a8121149851528469",
       "version_major": 2,
       "version_minor": 0
      },
      "text/plain": [
       "  0%|          | 0/7 [00:00<?, ?it/s]"
      ]
     },
     "metadata": {},
     "output_type": "display_data"
    },
    {
     "name": "stdout",
     "output_type": "stream",
     "text": [
      "{'eval_loss': 0.7078822255134583, 'eval_runtime': 1.2461, 'eval_samples_per_second': 80.248, 'eval_steps_per_second': 5.617, 'epoch': 14.0}\n",
      "{'loss': 0.2136, 'grad_norm': 21.110267639160156, 'learning_rate': 3.6e-05, 'epoch': 14.4}\n",
      "{'loss': 0.3033, 'grad_norm': 12.338789939880371, 'learning_rate': 3.7e-05, 'epoch': 14.8}\n"
     ]
    },
    {
     "data": {
      "application/vnd.jupyter.widget-view+json": {
       "model_id": "e995f76bfbe243e4a0c90ae909ff264c",
       "version_major": 2,
       "version_minor": 0
      },
      "text/plain": [
       "  0%|          | 0/7 [00:00<?, ?it/s]"
      ]
     },
     "metadata": {},
     "output_type": "display_data"
    },
    {
     "name": "stdout",
     "output_type": "stream",
     "text": [
      "{'eval_loss': 0.8376564979553223, 'eval_runtime': 1.2646, 'eval_samples_per_second': 79.074, 'eval_steps_per_second': 5.535, 'epoch': 15.0}\n",
      "{'loss': 0.2698, 'grad_norm': 15.913980484008789, 'learning_rate': 3.8e-05, 'epoch': 15.2}\n",
      "{'loss': 0.0797, 'grad_norm': 3.5244429111480713, 'learning_rate': 3.9000000000000006e-05, 'epoch': 15.6}\n",
      "{'loss': 0.3175, 'grad_norm': 31.32550811767578, 'learning_rate': 4e-05, 'epoch': 16.0}\n"
     ]
    },
    {
     "data": {
      "application/vnd.jupyter.widget-view+json": {
       "model_id": "b1edb09897134301818dc8048733f684",
       "version_major": 2,
       "version_minor": 0
      },
      "text/plain": [
       "  0%|          | 0/7 [00:00<?, ?it/s]"
      ]
     },
     "metadata": {},
     "output_type": "display_data"
    },
    {
     "name": "stdout",
     "output_type": "stream",
     "text": [
      "{'eval_loss': 1.0921924114227295, 'eval_runtime': 1.2536, 'eval_samples_per_second': 79.767, 'eval_steps_per_second': 5.584, 'epoch': 16.0}\n",
      "{'loss': 0.1099, 'grad_norm': 2.7542800903320312, 'learning_rate': 4.1e-05, 'epoch': 16.4}\n",
      "{'loss': 0.1585, 'grad_norm': 1.0358843803405762, 'learning_rate': 4.2e-05, 'epoch': 16.8}\n"
     ]
    },
    {
     "data": {
      "application/vnd.jupyter.widget-view+json": {
       "model_id": "5109317a9b624cf18b7369680f208c96",
       "version_major": 2,
       "version_minor": 0
      },
      "text/plain": [
       "  0%|          | 0/7 [00:00<?, ?it/s]"
      ]
     },
     "metadata": {},
     "output_type": "display_data"
    },
    {
     "name": "stdout",
     "output_type": "stream",
     "text": [
      "{'eval_loss': 1.5368661880493164, 'eval_runtime': 1.2729, 'eval_samples_per_second': 78.558, 'eval_steps_per_second': 5.499, 'epoch': 17.0}\n",
      "{'loss': 0.2717, 'grad_norm': 29.84408187866211, 'learning_rate': 4.3e-05, 'epoch': 17.2}\n",
      "{'loss': 0.1553, 'grad_norm': 73.07776641845703, 'learning_rate': 4.4000000000000006e-05, 'epoch': 17.6}\n",
      "{'loss': 0.1992, 'grad_norm': 20.502986907958984, 'learning_rate': 4.5e-05, 'epoch': 18.0}\n"
     ]
    },
    {
     "data": {
      "application/vnd.jupyter.widget-view+json": {
       "model_id": "d6b03ffd1dce4cb9b3fb3faea79bc7d1",
       "version_major": 2,
       "version_minor": 0
      },
      "text/plain": [
       "  0%|          | 0/7 [00:00<?, ?it/s]"
      ]
     },
     "metadata": {},
     "output_type": "display_data"
    },
    {
     "name": "stdout",
     "output_type": "stream",
     "text": [
      "{'eval_loss': 1.2416236400604248, 'eval_runtime': 1.3274, 'eval_samples_per_second': 75.333, 'eval_steps_per_second': 5.273, 'epoch': 18.0}\n",
      "{'loss': 0.0943, 'grad_norm': 15.047402381896973, 'learning_rate': 4.600000000000001e-05, 'epoch': 18.4}\n",
      "{'loss': 0.1724, 'grad_norm': 43.584049224853516, 'learning_rate': 4.7e-05, 'epoch': 18.8}\n"
     ]
    },
    {
     "data": {
      "application/vnd.jupyter.widget-view+json": {
       "model_id": "c52c4e542a0244aca0521b52efc795a8",
       "version_major": 2,
       "version_minor": 0
      },
      "text/plain": [
       "  0%|          | 0/7 [00:00<?, ?it/s]"
      ]
     },
     "metadata": {},
     "output_type": "display_data"
    },
    {
     "name": "stdout",
     "output_type": "stream",
     "text": [
      "{'eval_loss': 1.4072612524032593, 'eval_runtime': 1.2746, 'eval_samples_per_second': 78.456, 'eval_steps_per_second': 5.492, 'epoch': 19.0}\n",
      "{'loss': 0.3301, 'grad_norm': 39.295711517333984, 'learning_rate': 4.8e-05, 'epoch': 19.2}\n",
      "{'loss': 0.143, 'grad_norm': 11.375494003295898, 'learning_rate': 4.9e-05, 'epoch': 19.6}\n",
      "{'loss': 0.1441, 'grad_norm': 20.55341148376465, 'learning_rate': 0.0, 'epoch': 20.0}\n"
     ]
    },
    {
     "data": {
      "application/vnd.jupyter.widget-view+json": {
       "model_id": "140f275d4b4044128ab0525fa92b9fe5",
       "version_major": 2,
       "version_minor": 0
      },
      "text/plain": [
       "  0%|          | 0/7 [00:00<?, ?it/s]"
      ]
     },
     "metadata": {},
     "output_type": "display_data"
    },
    {
     "name": "stdout",
     "output_type": "stream",
     "text": [
      "{'eval_loss': 1.6691598892211914, 'eval_runtime': 1.2943, 'eval_samples_per_second': 77.264, 'eval_steps_per_second': 5.408, 'epoch': 20.0}\n",
      "{'train_runtime': 252.0105, 'train_samples_per_second': 31.665, 'train_steps_per_second': 1.984, 'train_loss': 0.43127016770839693, 'epoch': 20.0}\n"
     ]
    },
    {
     "data": {
      "application/vnd.jupyter.widget-view+json": {
       "model_id": "25926724c21c4792ae89a407970c2bdc",
       "version_major": 2,
       "version_minor": 0
      },
      "text/plain": [
       "  0%|          | 0/7 [00:00<?, ?it/s]"
      ]
     },
     "metadata": {},
     "output_type": "display_data"
    },
    {
     "name": "stdout",
     "output_type": "stream",
     "text": [
      "Evaluation results: {'eval_loss': 1.6691598892211914, 'eval_runtime': 1.2965, 'eval_samples_per_second': 77.13, 'eval_steps_per_second': 5.399, 'epoch': 20.0}\n"
     ]
    },
    {
     "data": {
      "application/vnd.jupyter.widget-view+json": {
       "model_id": "e2314b0b9c964e299513441f6da59af7",
       "version_major": 2,
       "version_minor": 0
      },
      "text/plain": [
       "  0%|          | 0/7 [00:00<?, ?it/s]"
      ]
     },
     "metadata": {},
     "output_type": "display_data"
    },
    {
     "name": "stdout",
     "output_type": "stream",
     "text": [
      "Accuracy: 0.66\n",
      "Classification Report:\n",
      "               precision    recall  f1-score   support\n",
      "\n",
      "           0       0.67      0.81      0.73        58\n",
      "           1       0.63      0.45      0.53        42\n",
      "\n",
      "    accuracy                           0.66       100\n",
      "   macro avg       0.65      0.63      0.63       100\n",
      "weighted avg       0.66      0.66      0.65       100\n",
      "\n"
     ]
    }
   ],
   "source": [
    "import pandas as pd\n",
    "import torch\n",
    "from sklearn.model_selection import train_test_split\n",
    "from sklearn.metrics import accuracy_score, classification_report\n",
    "from transformers import BertTokenizer, BertForSequenceClassification, Trainer, TrainingArguments\n",
    "from torch.utils.data import DataLoader, Dataset\n",
    "\n",
    "# 데이터 준비 (예시)\n",
    "# data = {\n",
    "#     'text': [\n",
    "#         '어묵김말이: 맛있는 김말이에 쫄깃함을 더한 어묵 김말이예요',\n",
    "#         '현미호두죽: 현미호두죽',\n",
    "#         '참치삼각김밥: 맨날 편의점에서만 사먹는 삼각김밥~ 집에서 간편히 만들 수 있다는 사실~ 참치만 있으면 냉장고 열어서 만들 수 있어요~ 한끼식사로도 좋고 도시락으로도 좋은 참치삼각김밥을 만들어 보아요~'\n",
    "#         # 추가 데이터 497개...\n",
    "#     ],\n",
    "#     'label': [1, 0, 0]  # 추가 데이터 라벨...\n",
    "# }\n",
    "\n",
    "# df = pd.DataFrame(data)\n",
    "\n",
    "# 데이터셋 클래스 정의\n",
    "class TextDataset(Dataset):\n",
    "    def __init__(self, texts, labels, tokenizer, max_len):\n",
    "        self.texts = texts\n",
    "        self.labels = labels\n",
    "        self.tokenizer = tokenizer\n",
    "        self.max_len = max_len\n",
    "\n",
    "    def __len__(self):\n",
    "        return len(self.texts)\n",
    "\n",
    "    def __getitem__(self, idx):\n",
    "        text = self.texts[idx]\n",
    "        label = self.labels[idx]\n",
    "        encoding = self.tokenizer.encode_plus(\n",
    "            text,\n",
    "            add_special_tokens=True,\n",
    "            max_length=self.max_len,\n",
    "            return_token_type_ids=False,\n",
    "            padding='max_length',\n",
    "            truncation=True,\n",
    "            return_attention_mask=True,\n",
    "            return_tensors='pt'\n",
    "        )\n",
    "        return {\n",
    "            'text': text,\n",
    "            'input_ids': encoding['input_ids'].flatten(),\n",
    "            'attention_mask': encoding['attention_mask'].flatten(),\n",
    "            'labels': torch.tensor(label, dtype=torch.long)\n",
    "        }\n",
    "\n",
    "# BERT 토크나이저 및 모델 로드\n",
    "# tokenizer = BertTokenizer.from_pretrained('bert-base-uncased')\n",
    "# model = BertForSequenceClassification.from_pretrained('bert-base-uncased', num_labels=2)\n",
    "tokenizer = BertTokenizer.from_pretrained('bert-base-multilingual-uncased')\n",
    "model = BertForSequenceClassification.from_pretrained('bert-base-multilingual-uncased', num_labels=2)\n",
    "\n",
    "# 데이터 분리\n",
    "X_train, X_test, y_train, y_test = train_test_split(df['text'], df['label'], test_size=0.2, random_state=42)\n",
    "\n",
    "# 데이터셋 및 데이터로더 준비\n",
    "train_dataset = TextDataset(X_train.tolist(), y_train.tolist(), tokenizer, max_len=128)\n",
    "test_dataset = TextDataset(X_test.tolist(), y_test.tolist(), tokenizer, max_len=128)\n",
    "\n",
    "train_loader = DataLoader(train_dataset, batch_size=16, shuffle=True)\n",
    "test_loader = DataLoader(test_dataset, batch_size=16)\n",
    "\n",
    "# 훈련 설정\n",
    "training_args = TrainingArguments(\n",
    "    output_dir='./results',\n",
    "    num_train_epochs=20,\n",
    "    per_device_train_batch_size=16,\n",
    "    per_device_eval_batch_size=16,\n",
    "    warmup_steps=500,\n",
    "    weight_decay=0.01,\n",
    "    logging_dir='./logs',\n",
    "    logging_steps=10,\n",
    "    evaluation_strategy=\"epoch\"\n",
    ")\n",
    "\n",
    "trainer = Trainer(\n",
    "    model=model,\n",
    "    args=training_args,\n",
    "    train_dataset=train_dataset,\n",
    "    eval_dataset=test_dataset\n",
    ")\n",
    "\n",
    "# 모델 훈련\n",
    "trainer.train()\n",
    "\n",
    "# 모델 평가\n",
    "results = trainer.evaluate()\n",
    "print(\"Evaluation results:\", results)\n",
    "\n",
    "# 예측 및 평가\n",
    "preds_output = trainer.predict(test_dataset)\n",
    "preds = preds_output.predictions.argmax(-1)\n",
    "\n",
    "print(\"Accuracy:\", accuracy_score(y_test, preds))\n",
    "print(\"Classification Report:\\n\", classification_report(y_test, preds))\n"
   ]
  }
 ],
 "metadata": {
  "kernelspec": {
   "display_name": "unet",
   "language": "python",
   "name": "python3"
  },
  "language_info": {
   "codemirror_mode": {
    "name": "ipython",
    "version": 3
   },
   "file_extension": ".py",
   "mimetype": "text/x-python",
   "name": "python",
   "nbconvert_exporter": "python",
   "pygments_lexer": "ipython3",
   "version": "3.8.19"
  }
 },
 "nbformat": 4,
 "nbformat_minor": 2
}
