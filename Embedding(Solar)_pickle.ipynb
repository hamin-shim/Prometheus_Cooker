{
  "cells": [
    {
      "cell_type": "code",
      "execution_count": 1,
      "metadata": {
        "id": "K4FPXHFqOrDS"
      },
      "outputs": [],
      "source": [
        "import pickle\n"
      ]
    },
    {
      "cell_type": "code",
      "execution_count": 2,
      "metadata": {
        "colab": {
          "base_uri": "https://localhost:8080/"
        },
        "id": "btDmhBSbJ5NK",
        "outputId": "fc53d721-126b-4997-f460-9263c98adaac"
      },
      "outputs": [
        {
          "ename": "ModuleNotFoundError",
          "evalue": "No module named 'google'",
          "output_type": "error",
          "traceback": [
            "\u001b[0;31m---------------------------------------------------------------------------\u001b[0m",
            "\u001b[0;31mModuleNotFoundError\u001b[0m                       Traceback (most recent call last)",
            "Cell \u001b[0;32mIn[2], line 1\u001b[0m\n\u001b[0;32m----> 1\u001b[0m \u001b[38;5;28;01mfrom\u001b[39;00m \u001b[38;5;21;01mgoogle\u001b[39;00m\u001b[38;5;21;01m.\u001b[39;00m\u001b[38;5;21;01mcolab\u001b[39;00m \u001b[38;5;28;01mimport\u001b[39;00m drive\n\u001b[1;32m      2\u001b[0m drive\u001b[38;5;241m.\u001b[39mmount(\u001b[38;5;124m'\u001b[39m\u001b[38;5;124m/content/drive\u001b[39m\u001b[38;5;124m'\u001b[39m)\n",
            "\u001b[0;31mModuleNotFoundError\u001b[0m: No module named 'google'"
          ]
        }
      ],
      "source": [
        "from google.colab import drive\n",
        "drive.mount('/content/drive')"
      ]
    },
    {
      "cell_type": "code",
      "execution_count": null,
      "metadata": {
        "id": "zVChJ3QzKlKs"
      },
      "outputs": [],
      "source": [
        "# 필요한 라이브러리 임포트\n",
        "import pandas as pd\n",
        "import numpy as np\n",
        "import torch\n",
        "from openai import OpenAI\n",
        "import torch.nn.functional as F\n",
        "import pickle\n",
        "\n",
        "# OpenAI 클라이언트 설정\n",
        "client = OpenAI(\n",
        "    api_key=\"사용자 API 키\",\n",
        "    base_url=\"https://api.upstage.ai/v1/solar\"\n",
        ")\n",
        "\n",
        "# 데이터 로딩 (이 코드는 엑셀 기준)\n",
        "df = pd.read_excel('사용자 데이터셋 경로')\n",
        "\n",
        "# 결측값 처리\n",
        "df['DATA'] = df['DATA'].fillna('')\n",
        "\n",
        "# label이 1인 데이터 필터링 (csv로 쓸때는 사용X)\n",
        "filtered_df = df[df['TARGET'] == 1]\n",
        "\n",
        "# 문장과 메뉴 이름을 리스트로 변환\n",
        "texts = filtered_df['DATA'].tolist()\n",
        "menu_names = filtered_df['MENU_NAME'].tolist()  # MENU_NAME 컬럼 추가\n",
        "\n",
        "# OpenAI 임베딩 생성 함수\n",
        "def get_embeddings(texts, batch_size=100):\n",
        "    embeddings = []\n",
        "    for i in range(0, len(texts), batch_size):\n",
        "        batch_texts = texts[i:i+batch_size]\n",
        "        response = client.embeddings.create(\n",
        "            input=batch_texts,\n",
        "            model=\"solar-embedding-1-large-query\"\n",
        "        )\n",
        "        batch_embeddings = [np.array(embedding.embedding) for embedding in response.data]\n",
        "        embeddings.extend(batch_embeddings)\n",
        "    return embeddings\n",
        "\n",
        "# 필터링된 데이터의 임베딩 생성\n",
        "embeddings = get_embeddings(texts)\n",
        "\n",
        "# 딕셔너리로 만들기\n",
        "answer = {}\n",
        "for idx in range(len(embeddings)) :\n",
        "  key = menu_names[idx].strip()\n",
        "  value = embeddings[idx]\n",
        "  answer[key] = value\n",
        "\n",
        "# 임베딩을 피클 파일로 저장\n",
        "# Google Drive의 특정 경로에 'embeddings.pkl'로 저장\n",
        "save_path = '특정경로'\n",
        "with open(save_path, 'wb') as f:\n",
        "    pickle.dump(embeddings, f)\n"
      ]
    }
  ],
  "metadata": {
    "colab": {
      "provenance": [],
      "toc_visible": true
    },
    "kernelspec": {
      "display_name": "Python 3",
      "name": "python3"
    },
    "language_info": {
      "codemirror_mode": {
        "name": "ipython",
        "version": 3
      },
      "file_extension": ".py",
      "mimetype": "text/x-python",
      "name": "python",
      "nbconvert_exporter": "python",
      "pygments_lexer": "ipython3",
      "version": "3.11.9"
    }
  },
  "nbformat": 4,
  "nbformat_minor": 0
}
